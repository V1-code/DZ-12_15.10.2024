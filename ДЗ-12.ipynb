{
 "cells": [
  {
   "cell_type": "code",
   "execution_count": 56,
   "id": "f335b429",
   "metadata": {},
   "outputs": [],
   "source": [
    "import pandas as pd\n",
    "import numpy as np\n",
    "import matplotlib.pyplot as plt\n",
    "import seaborn as sns\n",
    "from scipy import stats"
   ]
  },
  {
   "cell_type": "markdown",
   "id": "b445e8c8",
   "metadata": {},
   "source": [
    "Скачайте данные со страницы\n",
    "https://www.kaggle.com/datasets/faviovaz/marketing-ab-testing/data\n",
    "\n",
    "    1.Основная задача – проанализировать группы клиентов и ответить на вопрос, какой тип рекламы был успешнее\n",
    "    2.Вы можете воспользоваться дополнительными переменными, характеризующими клиента для поиска гетерогенных эффектов от рекламы\n",
    "    3.Помните, что любой вывод об эффективности / неэффективности должен быть подтвержден статистическим тестом!\n",
    "    4.Срок – до 28 октября\n"
   ]
  },
  {
   "cell_type": "markdown",
   "id": "ac673b30",
   "metadata": {},
   "source": [
    "Data dictionary:\n",
    "\n",
    "Index: Row index\n",
    "       Индекс строки\n",
    "\n",
    "user id: User ID (unique) \n",
    "         Идентификатор пользователя (уникальный)\n",
    "    \n",
    "test group: If \"ad\" the person saw the advertisement, if \"psa\" they only saw the public service announcement\n",
    "            Если \"ad\", то пользователь увидел рекламу, если \"psa\", то он увидел только публичное объявление.\n",
    "\n",
    "converted: If a person bought the product then True, else is False\n",
    "           Если пользователь купил продукт, то True, иначе - False\n",
    "\n",
    "total ads: Amount of ads seen by person\n",
    "           Количество объявлений, просмотренных пользователем. количество показов рекламы\n",
    "\n",
    "most ads day: Day that the person saw the biggest amount of ads\n",
    "              День, когда пользователь увидел наибольшее количество объявлений\n",
    "\n",
    "most ads hour: Hour of day that the person saw the biggest amount of ads\n",
    "               В какое время дня пользователь просмотрел наибольшее количество рекламы\n"
   ]
  },
  {
   "cell_type": "code",
   "execution_count": 35,
   "id": "2846a938",
   "metadata": {},
   "outputs": [],
   "source": [
    "df = pd.read_csv (r\"https://raw.githubusercontent.com/Borlukos/Python/refs/heads/main/marketing_AB.csv\")"
   ]
  },
  {
   "cell_type": "code",
   "execution_count": 36,
   "id": "9327782d",
   "metadata": {},
   "outputs": [
    {
     "data": {
      "text/html": [
       "<div>\n",
       "<style scoped>\n",
       "    .dataframe tbody tr th:only-of-type {\n",
       "        vertical-align: middle;\n",
       "    }\n",
       "\n",
       "    .dataframe tbody tr th {\n",
       "        vertical-align: top;\n",
       "    }\n",
       "\n",
       "    .dataframe thead th {\n",
       "        text-align: right;\n",
       "    }\n",
       "</style>\n",
       "<table border=\"1\" class=\"dataframe\">\n",
       "  <thead>\n",
       "    <tr style=\"text-align: right;\">\n",
       "      <th></th>\n",
       "      <th>Unnamed: 0</th>\n",
       "      <th>user id</th>\n",
       "      <th>test group</th>\n",
       "      <th>converted</th>\n",
       "      <th>total ads</th>\n",
       "      <th>most ads day</th>\n",
       "      <th>most ads hour</th>\n",
       "    </tr>\n",
       "  </thead>\n",
       "  <tbody>\n",
       "    <tr>\n",
       "      <th>0</th>\n",
       "      <td>0</td>\n",
       "      <td>1069124</td>\n",
       "      <td>ad</td>\n",
       "      <td>False</td>\n",
       "      <td>130</td>\n",
       "      <td>Monday</td>\n",
       "      <td>20</td>\n",
       "    </tr>\n",
       "    <tr>\n",
       "      <th>1</th>\n",
       "      <td>1</td>\n",
       "      <td>1119715</td>\n",
       "      <td>ad</td>\n",
       "      <td>False</td>\n",
       "      <td>93</td>\n",
       "      <td>Tuesday</td>\n",
       "      <td>22</td>\n",
       "    </tr>\n",
       "    <tr>\n",
       "      <th>2</th>\n",
       "      <td>2</td>\n",
       "      <td>1144181</td>\n",
       "      <td>ad</td>\n",
       "      <td>False</td>\n",
       "      <td>21</td>\n",
       "      <td>Tuesday</td>\n",
       "      <td>18</td>\n",
       "    </tr>\n",
       "    <tr>\n",
       "      <th>3</th>\n",
       "      <td>3</td>\n",
       "      <td>1435133</td>\n",
       "      <td>ad</td>\n",
       "      <td>False</td>\n",
       "      <td>355</td>\n",
       "      <td>Tuesday</td>\n",
       "      <td>10</td>\n",
       "    </tr>\n",
       "    <tr>\n",
       "      <th>4</th>\n",
       "      <td>4</td>\n",
       "      <td>1015700</td>\n",
       "      <td>ad</td>\n",
       "      <td>False</td>\n",
       "      <td>276</td>\n",
       "      <td>Friday</td>\n",
       "      <td>14</td>\n",
       "    </tr>\n",
       "    <tr>\n",
       "      <th>5</th>\n",
       "      <td>5</td>\n",
       "      <td>1137664</td>\n",
       "      <td>ad</td>\n",
       "      <td>False</td>\n",
       "      <td>734</td>\n",
       "      <td>Saturday</td>\n",
       "      <td>10</td>\n",
       "    </tr>\n",
       "    <tr>\n",
       "      <th>6</th>\n",
       "      <td>6</td>\n",
       "      <td>1116205</td>\n",
       "      <td>ad</td>\n",
       "      <td>False</td>\n",
       "      <td>264</td>\n",
       "      <td>Wednesday</td>\n",
       "      <td>13</td>\n",
       "    </tr>\n",
       "    <tr>\n",
       "      <th>7</th>\n",
       "      <td>7</td>\n",
       "      <td>1496843</td>\n",
       "      <td>ad</td>\n",
       "      <td>False</td>\n",
       "      <td>17</td>\n",
       "      <td>Sunday</td>\n",
       "      <td>18</td>\n",
       "    </tr>\n",
       "    <tr>\n",
       "      <th>8</th>\n",
       "      <td>8</td>\n",
       "      <td>1448851</td>\n",
       "      <td>ad</td>\n",
       "      <td>False</td>\n",
       "      <td>21</td>\n",
       "      <td>Tuesday</td>\n",
       "      <td>19</td>\n",
       "    </tr>\n",
       "    <tr>\n",
       "      <th>9</th>\n",
       "      <td>9</td>\n",
       "      <td>1446284</td>\n",
       "      <td>ad</td>\n",
       "      <td>False</td>\n",
       "      <td>142</td>\n",
       "      <td>Monday</td>\n",
       "      <td>14</td>\n",
       "    </tr>\n",
       "    <tr>\n",
       "      <th>10</th>\n",
       "      <td>10</td>\n",
       "      <td>1257223</td>\n",
       "      <td>ad</td>\n",
       "      <td>False</td>\n",
       "      <td>209</td>\n",
       "      <td>Wednesday</td>\n",
       "      <td>11</td>\n",
       "    </tr>\n",
       "    <tr>\n",
       "      <th>11</th>\n",
       "      <td>11</td>\n",
       "      <td>1637531</td>\n",
       "      <td>ad</td>\n",
       "      <td>False</td>\n",
       "      <td>47</td>\n",
       "      <td>Wednesday</td>\n",
       "      <td>13</td>\n",
       "    </tr>\n",
       "    <tr>\n",
       "      <th>12</th>\n",
       "      <td>12</td>\n",
       "      <td>1081965</td>\n",
       "      <td>ad</td>\n",
       "      <td>False</td>\n",
       "      <td>61</td>\n",
       "      <td>Tuesday</td>\n",
       "      <td>20</td>\n",
       "    </tr>\n",
       "    <tr>\n",
       "      <th>13</th>\n",
       "      <td>13</td>\n",
       "      <td>1037215</td>\n",
       "      <td>ad</td>\n",
       "      <td>False</td>\n",
       "      <td>40</td>\n",
       "      <td>Friday</td>\n",
       "      <td>13</td>\n",
       "    </tr>\n",
       "    <tr>\n",
       "      <th>14</th>\n",
       "      <td>14</td>\n",
       "      <td>1535652</td>\n",
       "      <td>ad</td>\n",
       "      <td>False</td>\n",
       "      <td>20</td>\n",
       "      <td>Tuesday</td>\n",
       "      <td>19</td>\n",
       "    </tr>\n",
       "    <tr>\n",
       "      <th>15</th>\n",
       "      <td>15</td>\n",
       "      <td>1461774</td>\n",
       "      <td>ad</td>\n",
       "      <td>True</td>\n",
       "      <td>9</td>\n",
       "      <td>Wednesday</td>\n",
       "      <td>18</td>\n",
       "    </tr>\n",
       "    <tr>\n",
       "      <th>16</th>\n",
       "      <td>16</td>\n",
       "      <td>1492276</td>\n",
       "      <td>ad</td>\n",
       "      <td>False</td>\n",
       "      <td>64</td>\n",
       "      <td>Tuesday</td>\n",
       "      <td>12</td>\n",
       "    </tr>\n",
       "    <tr>\n",
       "      <th>17</th>\n",
       "      <td>17</td>\n",
       "      <td>1118924</td>\n",
       "      <td>ad</td>\n",
       "      <td>False</td>\n",
       "      <td>26</td>\n",
       "      <td>Wednesday</td>\n",
       "      <td>11</td>\n",
       "    </tr>\n",
       "    <tr>\n",
       "      <th>18</th>\n",
       "      <td>18</td>\n",
       "      <td>900681</td>\n",
       "      <td>psa</td>\n",
       "      <td>False</td>\n",
       "      <td>248</td>\n",
       "      <td>Saturday</td>\n",
       "      <td>19</td>\n",
       "    </tr>\n",
       "    <tr>\n",
       "      <th>19</th>\n",
       "      <td>19</td>\n",
       "      <td>1053783</td>\n",
       "      <td>ad</td>\n",
       "      <td>False</td>\n",
       "      <td>73</td>\n",
       "      <td>Friday</td>\n",
       "      <td>19</td>\n",
       "    </tr>\n",
       "    <tr>\n",
       "      <th>20</th>\n",
       "      <td>20</td>\n",
       "      <td>1381767</td>\n",
       "      <td>ad</td>\n",
       "      <td>False</td>\n",
       "      <td>281</td>\n",
       "      <td>Wednesday</td>\n",
       "      <td>11</td>\n",
       "    </tr>\n",
       "    <tr>\n",
       "      <th>21</th>\n",
       "      <td>21</td>\n",
       "      <td>1478526</td>\n",
       "      <td>ad</td>\n",
       "      <td>False</td>\n",
       "      <td>389</td>\n",
       "      <td>Saturday</td>\n",
       "      <td>19</td>\n",
       "    </tr>\n",
       "    <tr>\n",
       "      <th>22</th>\n",
       "      <td>22</td>\n",
       "      <td>1436823</td>\n",
       "      <td>ad</td>\n",
       "      <td>False</td>\n",
       "      <td>136</td>\n",
       "      <td>Sunday</td>\n",
       "      <td>16</td>\n",
       "    </tr>\n",
       "    <tr>\n",
       "      <th>23</th>\n",
       "      <td>23</td>\n",
       "      <td>1274572</td>\n",
       "      <td>ad</td>\n",
       "      <td>False</td>\n",
       "      <td>47</td>\n",
       "      <td>Saturday</td>\n",
       "      <td>21</td>\n",
       "    </tr>\n",
       "    <tr>\n",
       "      <th>24</th>\n",
       "      <td>24</td>\n",
       "      <td>1441220</td>\n",
       "      <td>ad</td>\n",
       "      <td>False</td>\n",
       "      <td>264</td>\n",
       "      <td>Saturday</td>\n",
       "      <td>3</td>\n",
       "    </tr>\n",
       "  </tbody>\n",
       "</table>\n",
       "</div>"
      ],
      "text/plain": [
       "    Unnamed: 0  user id test group  converted  total ads most ads day  \\\n",
       "0            0  1069124         ad      False        130       Monday   \n",
       "1            1  1119715         ad      False         93      Tuesday   \n",
       "2            2  1144181         ad      False         21      Tuesday   \n",
       "3            3  1435133         ad      False        355      Tuesday   \n",
       "4            4  1015700         ad      False        276       Friday   \n",
       "5            5  1137664         ad      False        734     Saturday   \n",
       "6            6  1116205         ad      False        264    Wednesday   \n",
       "7            7  1496843         ad      False         17       Sunday   \n",
       "8            8  1448851         ad      False         21      Tuesday   \n",
       "9            9  1446284         ad      False        142       Monday   \n",
       "10          10  1257223         ad      False        209    Wednesday   \n",
       "11          11  1637531         ad      False         47    Wednesday   \n",
       "12          12  1081965         ad      False         61      Tuesday   \n",
       "13          13  1037215         ad      False         40       Friday   \n",
       "14          14  1535652         ad      False         20      Tuesday   \n",
       "15          15  1461774         ad       True          9    Wednesday   \n",
       "16          16  1492276         ad      False         64      Tuesday   \n",
       "17          17  1118924         ad      False         26    Wednesday   \n",
       "18          18   900681        psa      False        248     Saturday   \n",
       "19          19  1053783         ad      False         73       Friday   \n",
       "20          20  1381767         ad      False        281    Wednesday   \n",
       "21          21  1478526         ad      False        389     Saturday   \n",
       "22          22  1436823         ad      False        136       Sunday   \n",
       "23          23  1274572         ad      False         47     Saturday   \n",
       "24          24  1441220         ad      False        264     Saturday   \n",
       "\n",
       "    most ads hour  \n",
       "0              20  \n",
       "1              22  \n",
       "2              18  \n",
       "3              10  \n",
       "4              14  \n",
       "5              10  \n",
       "6              13  \n",
       "7              18  \n",
       "8              19  \n",
       "9              14  \n",
       "10             11  \n",
       "11             13  \n",
       "12             20  \n",
       "13             13  \n",
       "14             19  \n",
       "15             18  \n",
       "16             12  \n",
       "17             11  \n",
       "18             19  \n",
       "19             19  \n",
       "20             11  \n",
       "21             19  \n",
       "22             16  \n",
       "23             21  \n",
       "24              3  "
      ]
     },
     "execution_count": 36,
     "metadata": {},
     "output_type": "execute_result"
    }
   ],
   "source": [
    "df.head(25)"
   ]
  },
  {
   "cell_type": "code",
   "execution_count": 37,
   "id": "20efb36d",
   "metadata": {},
   "outputs": [
    {
     "data": {
      "text/html": [
       "<div>\n",
       "<style scoped>\n",
       "    .dataframe tbody tr th:only-of-type {\n",
       "        vertical-align: middle;\n",
       "    }\n",
       "\n",
       "    .dataframe tbody tr th {\n",
       "        vertical-align: top;\n",
       "    }\n",
       "\n",
       "    .dataframe thead th {\n",
       "        text-align: right;\n",
       "    }\n",
       "</style>\n",
       "<table border=\"1\" class=\"dataframe\">\n",
       "  <thead>\n",
       "    <tr style=\"text-align: right;\">\n",
       "      <th></th>\n",
       "      <th>Unnamed: 0</th>\n",
       "      <th>user id</th>\n",
       "      <th>test group</th>\n",
       "      <th>converted</th>\n",
       "      <th>total ads</th>\n",
       "      <th>most ads day</th>\n",
       "      <th>most ads hour</th>\n",
       "    </tr>\n",
       "  </thead>\n",
       "  <tbody>\n",
       "  </tbody>\n",
       "</table>\n",
       "</div>"
      ],
      "text/plain": [
       "Empty DataFrame\n",
       "Columns: [Unnamed: 0, user id, test group, converted, total ads, most ads day, most ads hour]\n",
       "Index: []"
      ]
     },
     "execution_count": 37,
     "metadata": {},
     "output_type": "execute_result"
    }
   ],
   "source": [
    "# Проверим датафрейм на дубликаты\n",
    "df[df.duplicated()]"
   ]
  },
  {
   "cell_type": "code",
   "execution_count": 38,
   "id": "3f8fbedd",
   "metadata": {},
   "outputs": [
    {
     "data": {
      "text/plain": [
       "Unnamed: 0       0\n",
       "user id          0\n",
       "test group       0\n",
       "converted        0\n",
       "total ads        0\n",
       "most ads day     0\n",
       "most ads hour    0\n",
       "dtype: int64"
      ]
     },
     "execution_count": 38,
     "metadata": {},
     "output_type": "execute_result"
    }
   ],
   "source": [
    "# Проверим датафрейм на пропуски\n",
    "df.isna().sum() "
   ]
  },
  {
   "cell_type": "code",
   "execution_count": null,
   "id": "7ffcca1e",
   "metadata": {},
   "outputs": [],
   "source": [
    "# Посмотрим на уникальные значения "
   ]
  },
  {
   "cell_type": "code",
   "execution_count": 39,
   "id": "00a35916",
   "metadata": {},
   "outputs": [
    {
     "data": {
      "text/plain": [
       "array(['ad', 'psa'], dtype=object)"
      ]
     },
     "execution_count": 39,
     "metadata": {},
     "output_type": "execute_result"
    }
   ],
   "source": [
    "df['test group'].unique()"
   ]
  },
  {
   "cell_type": "code",
   "execution_count": 40,
   "id": "4eae24ef",
   "metadata": {},
   "outputs": [
    {
     "data": {
      "text/plain": [
       "array([False,  True])"
      ]
     },
     "execution_count": 40,
     "metadata": {},
     "output_type": "execute_result"
    }
   ],
   "source": [
    "df['converted'].unique()"
   ]
  },
  {
   "cell_type": "code",
   "execution_count": 41,
   "id": "22d9251b",
   "metadata": {},
   "outputs": [
    {
     "data": {
      "text/plain": [
       "array(['Monday', 'Tuesday', 'Friday', 'Saturday', 'Wednesday', 'Sunday',\n",
       "       'Thursday'], dtype=object)"
      ]
     },
     "execution_count": 41,
     "metadata": {},
     "output_type": "execute_result"
    }
   ],
   "source": [
    "df['most ads day'].unique()"
   ]
  },
  {
   "cell_type": "code",
   "execution_count": 42,
   "id": "9e28e606",
   "metadata": {},
   "outputs": [
    {
     "data": {
      "text/plain": [
       "array([20, 22, 18, 10, 14, 13, 19, 11, 12, 16, 21,  3, 23,  4,  8,  0,  2,\n",
       "       15,  1,  6, 17,  7,  9,  5])"
      ]
     },
     "execution_count": 42,
     "metadata": {},
     "output_type": "execute_result"
    }
   ],
   "source": [
    "df['most ads hour'].unique()"
   ]
  },
  {
   "cell_type": "code",
   "execution_count": 45,
   "id": "417d9251",
   "metadata": {},
   "outputs": [
    {
     "data": {
      "text/plain": [
       "(588101, 7)"
      ]
     },
     "execution_count": 45,
     "metadata": {},
     "output_type": "execute_result"
    }
   ],
   "source": [
    "df.shape"
   ]
  },
  {
   "cell_type": "code",
   "execution_count": 46,
   "id": "e2fb7edc",
   "metadata": {},
   "outputs": [
    {
     "data": {
      "text/plain": [
       "(564577, 7)"
      ]
     },
     "execution_count": 46,
     "metadata": {},
     "output_type": "execute_result"
    }
   ],
   "source": [
    "# А - пользователи видели рекламу\n",
    "group_a = df[df['test group']=='ad']\n",
    "group_a.shape"
   ]
  },
  {
   "cell_type": "code",
   "execution_count": 47,
   "id": "5ca9f46f",
   "metadata": {},
   "outputs": [
    {
     "data": {
      "text/plain": [
       "(23524, 7)"
      ]
     },
     "execution_count": 47,
     "metadata": {},
     "output_type": "execute_result"
    }
   ],
   "source": [
    "# Б - пользователи видели только публичное объявление\n",
    "group_b = df[df['test group']=='psa']\n",
    "group_b.shape"
   ]
  },
  {
   "cell_type": "code",
   "execution_count": 48,
   "id": "9b865024",
   "metadata": {},
   "outputs": [
    {
     "data": {
      "text/plain": [
       "14843"
      ]
     },
     "execution_count": 48,
     "metadata": {},
     "output_type": "execute_result"
    }
   ],
   "source": [
    "# Всего пользователей купили продукт \n",
    "df[df['converted']==1].shape[0]\n"
   ]
  },
  {
   "cell_type": "code",
   "execution_count": 49,
   "id": "bce96cb0",
   "metadata": {},
   "outputs": [
    {
     "data": {
      "text/plain": [
       "14423"
      ]
     },
     "execution_count": 49,
     "metadata": {},
     "output_type": "execute_result"
    }
   ],
   "source": [
    "# A - пользователи видели рекламу и купили продукт \n",
    "group_a[group_a['converted']==True].shape[0]"
   ]
  },
  {
   "cell_type": "code",
   "execution_count": 50,
   "id": "8077945a",
   "metadata": {
    "scrolled": true
   },
   "outputs": [
    {
     "data": {
      "text/plain": [
       "420"
      ]
     },
     "execution_count": 50,
     "metadata": {},
     "output_type": "execute_result"
    }
   ],
   "source": [
    "# Б - пользователи видели только публичное объявление и купили продукт\n",
    "group_b[group_b['converted']==True].shape[0]"
   ]
  },
  {
   "cell_type": "code",
   "execution_count": null,
   "id": "630ddfd8",
   "metadata": {},
   "outputs": [],
   "source": []
  },
  {
   "cell_type": "markdown",
   "id": "3d95b02a",
   "metadata": {},
   "source": [
    "Конверсия"
   ]
  },
  {
   "cell_type": "code",
   "execution_count": 51,
   "id": "14a642ee",
   "metadata": {},
   "outputs": [
    {
     "name": "stdout",
     "output_type": "stream",
     "text": [
      "Конверсия всего: 0.02523886203220195\n",
      "Конверсия группы А: 0.025546559636683747\n",
      "Конверсия группы Б: 0.01785410644448223\n"
     ]
    }
   ],
   "source": [
    "print('Конверсия всего:', df[df['converted'] == True].shape[0] / df.shape[0])\n",
    "print('Конверсия группы А:', group_a[group_a['converted'] == True].shape[0] / group_a.shape[0])\n",
    "print('Конверсия группы Б:', group_b[group_b['converted'] == True].shape[0] / group_b.shape[0])"
   ]
  },
  {
   "cell_type": "code",
   "execution_count": 54,
   "id": "64a418f4",
   "metadata": {},
   "outputs": [
    {
     "name": "stdout",
     "output_type": "stream",
     "text": [
      "Конверсия всего: 0.02523886203220195\n",
      "Конверсия группы А: 0.025546559636683747\n",
      "Конверсия группы Б: 0.01785410644448223\n"
     ]
    }
   ],
   "source": [
    "print('Конверсия всего:', df['converted'].fillna(0).mean())\n",
    "print('Конверсия группы А:', group_a['converted'].fillna(0).mean())\n",
    "print('Конверсия группы Б:', group_b['converted'].fillna(0).mean())"
   ]
  },
  {
   "cell_type": "code",
   "execution_count": null,
   "id": "a33a8e57",
   "metadata": {},
   "outputs": [],
   "source": []
  },
  {
   "cell_type": "markdown",
   "id": "f9808059",
   "metadata": {},
   "source": [
    "Тест на значимость разницы между группами"
   ]
  },
  {
   "cell_type": "code",
   "execution_count": 53,
   "id": "8f1fe2e7",
   "metadata": {},
   "outputs": [
    {
     "data": {
      "text/plain": [
       "Ttest_indResult(statistic=7.37040597428566, pvalue=1.7033052627831264e-13)"
      ]
     },
     "execution_count": 53,
     "metadata": {},
     "output_type": "execute_result"
    }
   ],
   "source": [
    "stats.ttest_ind(group_a['converted'].fillna(0), group_b['converted'].fillna(0))"
   ]
  },
  {
   "cell_type": "markdown",
   "id": "10126843",
   "metadata": {},
   "source": [
    "Нулевая гипотеза теста - это равенство средней конверсии в обеих группах\n",
    "Сравниваем р-значение с альфой = 5%\n",
    "\n",
    "р-значение < 5% (...e-13) => отвергаем нулевую гипотезу, средние конверсии в группах А и Б отличаются  "
   ]
  },
  {
   "cell_type": "markdown",
   "id": "35d14616",
   "metadata": {},
   "source": [
    "Конверсия группы А (0.02554) больше конверсии группы Б (0.01785). \n",
    "Следовательно, реклама была эффективнее (успешнее) публичных объявлений. "
   ]
  },
  {
   "cell_type": "code",
   "execution_count": null,
   "id": "34abe884",
   "metadata": {},
   "outputs": [],
   "source": []
  },
  {
   "cell_type": "markdown",
   "id": "b3f7c965",
   "metadata": {},
   "source": [
    "Характеристики групп"
   ]
  },
  {
   "cell_type": "code",
   "execution_count": 126,
   "id": "6c0df8ed",
   "metadata": {},
   "outputs": [
    {
     "data": {
      "image/png": "[encoded data removed]",
      "text/plain": [
       "<Figure size 1500x500 with 2 Axes>"
      ]
     },
     "metadata": {},
     "output_type": "display_data"
    }
   ],
   "source": [
    "fig, ax = plt.subplots(1,2, figsize = (15,5))\n",
    "plt.suptitle('Распределение покупок по дням недели ')\n",
    "sns.histplot(group_a['most ads day'], ax = ax[0])\n",
    "sns.histplot(group_b['most ads day'], ax = ax[1])\n",
    "ax[0].set_title('Группа А \\n(видели рекламу)')\n",
    "ax[1].set_title('Группа Б \\n(видели только публичное объявление)')\n",
    "fig.autofmt_xdate(rotation=45)\n",
    "plt.show()"
   ]
  },
  {
   "cell_type": "code",
   "execution_count": null,
   "id": "378a67fc",
   "metadata": {},
   "outputs": [],
   "source": []
  },
  {
   "cell_type": "markdown",
   "id": "122fed08",
   "metadata": {},
   "source": [
    "Посмотрим на гетерогенность эффектов в группах А и В "
   ]
  },
  {
   "cell_type": "markdown",
   "id": "ae8cef87",
   "metadata": {},
   "source": [
    "Распределение по дням недели "
   ]
  },
  {
   "cell_type": "code",
   "execution_count": 76,
   "id": "1ebd74fc",
   "metadata": {},
   "outputs": [
    {
     "data": {
      "text/plain": [
       "most ads day\n",
       "Friday       0.022465\n",
       "Monday       0.033241\n",
       "Saturday     0.021307\n",
       "Sunday       0.024620\n",
       "Thursday     0.021637\n",
       "Tuesday      0.030440\n",
       "Wednesday    0.025356\n",
       "Name: converted, dtype: float64"
      ]
     },
     "execution_count": 76,
     "metadata": {},
     "output_type": "execute_result"
    }
   ],
   "source": [
    "group_a.groupby('most ads day')['converted'].mean()"
   ]
  },
  {
   "cell_type": "code",
   "execution_count": 77,
   "id": "444851b2",
   "metadata": {},
   "outputs": [
    {
     "data": {
      "text/plain": [
       "most ads day\n",
       "Friday       0.016303\n",
       "Monday       0.022559\n",
       "Saturday     0.013996\n",
       "Sunday       0.020595\n",
       "Thursday     0.020230\n",
       "Tuesday      0.014448\n",
       "Wednesday    0.015759\n",
       "Name: converted, dtype: float64"
      ]
     },
     "execution_count": 77,
     "metadata": {},
     "output_type": "execute_result"
    }
   ],
   "source": [
    "group_b.groupby('most ads day')['converted'].mean()"
   ]
  },
  {
   "cell_type": "markdown",
   "id": "9c6827d6",
   "metadata": {},
   "source": [
    "Сравниваем средние конверсии по дням недели: \n",
    "\n",
    "Monday    (пн)    Конверсия группы А (0.033241) > конверсии группы Б (0.022559), разница: 0.010682\n",
    "Tuesday   (вт)    Конверсия группы А (0.030440) > конверсии группы Б (0.014448), разница: 0.015992\n",
    "Wednesday (ср)    Конверсия группы А (0.025356) > конверсии группы Б (0.015759), разница: 0.009597\n",
    "Thursday  (чт)    Конверсия группы А (0.021637) > конверсии группы Б (0.020230), разница: 0.001407 (мин)\n",
    "Friday    (пт)    Конверсия группы А (0.022465) > конверсии группы Б (0.016303), разница: 0.006162\n",
    "Saturday  (сб)    Конверсия группы А (0.021307) > конверсии группы Б (0.013996), разница: 0.007311\n",
    "Sunday    (вс)    Конверсия группы А (0.024620) > конверсии группы Б (0.020595), разница: 0.004025\n"
   ]
  },
  {
   "cell_type": "code",
   "execution_count": null,
   "id": "e8a35fb3",
   "metadata": {},
   "outputs": [],
   "source": []
  },
  {
   "cell_type": "markdown",
   "id": "980721b4",
   "metadata": {},
   "source": [
    "Тест на значимость эффекта для каждого дня недели\n",
    "\n",
    "Нулевая гипотеза теста - это равенство средней конверсии в обеих группах \n",
    "Сравниваем р-значение с альфой = 5%\n"
   ]
  },
  {
   "cell_type": "code",
   "execution_count": 78,
   "id": "96b68c44",
   "metadata": {},
   "outputs": [
    {
     "data": {
      "text/plain": [
       "Ttest_indResult(statistic=3.4767998173189745, pvalue=0.0005076838310420106)"
      ]
     },
     "execution_count": 78,
     "metadata": {},
     "output_type": "execute_result"
    }
   ],
   "source": [
    "stats.ttest_ind(group_a[group_a['most ads day']=='Monday']['converted'], group_b[group_b['most ads day']=='Monday']['converted'])"
   ]
  },
  {
   "cell_type": "code",
   "execution_count": null,
   "id": "91ccd06d",
   "metadata": {},
   "outputs": [],
   "source": [
    "р-значение < 5% => отвергаем нулевую гипотезу"
   ]
  },
  {
   "cell_type": "code",
   "execution_count": 79,
   "id": "954254c7",
   "metadata": {},
   "outputs": [
    {
     "data": {
      "text/plain": [
       "Ttest_indResult(statistic=4.9725001795688915, pvalue=6.623580376546489e-07)"
      ]
     },
     "execution_count": 79,
     "metadata": {},
     "output_type": "execute_result"
    }
   ],
   "source": [
    "stats.ttest_ind(group_a[group_a['most ads day']=='Tuesday']['converted'], group_b[group_b['most ads day']=='Tuesday']['converted'])"
   ]
  },
  {
   "cell_type": "code",
   "execution_count": null,
   "id": "670ae032",
   "metadata": {},
   "outputs": [],
   "source": [
    "р-значение < 5% => отвергаем нулевую гипотезу"
   ]
  },
  {
   "cell_type": "code",
   "execution_count": 80,
   "id": "81760b20",
   "metadata": {},
   "outputs": [
    {
     "data": {
      "text/plain": [
       "Ttest_indResult(statistic=3.556325296980843, pvalue=0.00037629299081835306)"
      ]
     },
     "execution_count": 80,
     "metadata": {},
     "output_type": "execute_result"
    }
   ],
   "source": [
    "stats.ttest_ind(group_a[group_a['most ads day']=='Wednesday']['converted'], group_b[group_b['most ads day']=='Wednesday']['converted'])"
   ]
  },
  {
   "cell_type": "code",
   "execution_count": null,
   "id": "d62d953e",
   "metadata": {},
   "outputs": [],
   "source": [
    "р-значение < 5% => отвергаем нулевую гипотезу"
   ]
  },
  {
   "cell_type": "code",
   "execution_count": 81,
   "id": "16c7ff2d",
   "metadata": {},
   "outputs": [
    {
     "data": {
      "text/plain": [
       "Ttest_indResult(statistic=0.5906506740406489, pvalue=0.5547561128146212)"
      ]
     },
     "execution_count": 81,
     "metadata": {},
     "output_type": "execute_result"
    }
   ],
   "source": [
    "stats.ttest_ind(group_a[group_a['most ads day']=='Thursday']['converted'], group_b[group_b['most ads day']=='Thursday']['converted'])"
   ]
  },
  {
   "cell_type": "code",
   "execution_count": null,
   "id": "17f6aa4e",
   "metadata": {},
   "outputs": [],
   "source": [
    "р-значение > 5% => НЕ отвергаем нулевую гипотезу, ср. конверсии в группах А и Б равны \n"
   ]
  },
  {
   "cell_type": "code",
   "execution_count": 82,
   "id": "54e6cf70",
   "metadata": {},
   "outputs": [
    {
     "data": {
      "text/plain": [
       "Ttest_indResult(statistic=2.5250884891161647, pvalue=0.011568571026075112)"
      ]
     },
     "execution_count": 82,
     "metadata": {},
     "output_type": "execute_result"
    }
   ],
   "source": [
    "stats.ttest_ind(group_a[group_a['most ads day']=='Friday']['converted'], group_b[group_b['most ads day']=='Friday']['converted'])"
   ]
  },
  {
   "cell_type": "code",
   "execution_count": null,
   "id": "1c902c7d",
   "metadata": {},
   "outputs": [],
   "source": [
    "р-значение < 5% => отвергаем нулевую гипотезу"
   ]
  },
  {
   "cell_type": "code",
   "execution_count": 83,
   "id": "72881056",
   "metadata": {},
   "outputs": [
    {
     "data": {
      "text/plain": [
       "Ttest_indResult(statistic=2.6745960256483388, pvalue=0.007483424454519301)"
      ]
     },
     "execution_count": 83,
     "metadata": {},
     "output_type": "execute_result"
    }
   ],
   "source": [
    "stats.ttest_ind(group_a[group_a['most ads day']=='Saturday']['converted'], group_b[group_b['most ads day']=='Saturday']['converted'])"
   ]
  },
  {
   "cell_type": "code",
   "execution_count": null,
   "id": "897593ea",
   "metadata": {},
   "outputs": [],
   "source": [
    "р-значение < 5% => отвергаем нулевую гипотезу"
   ]
  },
  {
   "cell_type": "code",
   "execution_count": 85,
   "id": "5167c3e6",
   "metadata": {},
   "outputs": [
    {
     "data": {
      "text/plain": [
       "Ttest_indResult(statistic=1.4145989240334367, pvalue=0.15718977081077093)"
      ]
     },
     "execution_count": 85,
     "metadata": {},
     "output_type": "execute_result"
    }
   ],
   "source": [
    "stats.ttest_ind(group_a[group_a['most ads day']=='Sunday']['converted'], group_b[group_b['most ads day']=='Sunday']['converted'])"
   ]
  },
  {
   "cell_type": "code",
   "execution_count": null,
   "id": "41d60fcf",
   "metadata": {},
   "outputs": [],
   "source": [
    "р-значение > 5% => НЕ отвергаем нулевую гипотезу, ср. конверсии в группах А и Б равны "
   ]
  },
  {
   "cell_type": "markdown",
   "id": "28eb5ff8",
   "metadata": {},
   "source": [
    "Вывод: \n",
    "В дни недели Thursday (чт) и Sunday (вс) разница в эффективности между рекламой и публичными объявлениями - несущественная. \n",
    "Во все остальные дни недели эффективность рекламы была выше, чем публичных объявлений. "
   ]
  }
 ],
 "metadata": {
  "kernelspec": {
   "display_name": "Python 3 (ipykernel)",
   "language": "python",
   "name": "python3"
  },
  "language_info": {
   "codemirror_mode": {
    "name": "ipython",
    "version": 3
   },
   "file_extension": ".py",
   "mimetype": "text/x-python",
   "name": "python",
   "nbconvert_exporter": "python",
   "pygments_lexer": "ipython3",
   "version": "3.11.2"
  }
 },
 "nbformat": 4,
 "nbformat_minor": 5
}
